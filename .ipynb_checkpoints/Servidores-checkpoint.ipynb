{
 "cells": [
  {
   "cell_type": "markdown",
   "metadata": {},
   "source": [
    "# UFRN Analytics\n",
    "\n",
    "## Análise sobre os dados de Servidores da UFRN"
   ]
  },
  {
   "cell_type": "markdown",
   "metadata": {},
   "source": [
    "O [Portal de Dados Abertos da UFRN](http://dados.ufrn.br) disponibiliza o recurso [Servidores](http://dados.ufrn.br/dataset/pessoas), uma base de dados com registro de todos os servidores ativos ou que se aposentaram pela instituição.  \n",
    "  \n",
    "Para cada servidor há informações de Nome, Matrícula SIAPE, Categoria, Cargo, Jornada de Trabalho, Regime Jurídico, Situação, Classe Funcional, Unidade de Lotação e Datas de Admissão e Desligamento.  "
   ]
  },
  {
   "cell_type": "markdown",
   "metadata": {},
   "source": [
    "A Matrícula SIAPE, uma composição das colunas \"siape\" e \"digito_siape\", é um número de identificação para os servidores do executivo federal. \n",
    "\n",
    "A Categoria informa à qual das duas categorias existentes na instituição o servidor está vinculado: Docente ou Técnico Administrativo.  \n",
    "\n",
    "O Cargo é uma indicação das atribuições do servidor, dentro da Categoria à qual está vinculado. Por exemplo: entre Docentes, há \"Professor do Magistério Superior\", \"Professor de Ensino Básico, Técnico e Tecnológico etc; entre Técnicos Administrativos, existem \"Assistentes em Administração\", \"Técnicos de Laboratório\", \"Engenheiros\" etc.  \n",
    "\n",
    "O Tipo de Jornada de Trabalho informa a carga horária semanal dedicada pelo servidor à instituição, ou, em alguns casos, se trata-se de Dedicação Exclusiva.\n",
    "\n",
    "O Regime Jurídico de todos os servidores do quadro permanente da UFRN é Estatutário, portanto, essa coluna possui o mesmo valor em todas as linhas. \n",
    "\n",
    "A Situação do Servidor indica se ele está em atividade ou está aposentado.  \n",
    "\n",
    "A Classe Funcional indica o estágio da carreira em que o servidor se encontra, de acordo com sua Categoria.  \n",
    "\n",
    "A Unidade indica o local de lotação do servidor.\n",
    "\n",
    "Por fim, as Datas de Admissão e Desligamento referem-se às datas de início e fim das atividades do servidores na instituição."
   ]
  },
  {
   "cell_type": "code",
   "execution_count": null,
   "metadata": {
    "collapsed": true
   },
   "outputs": [],
   "source": [
    "import pandas as pd\n",
    "import datetime as dt\n",
    "\n",
    "import matplotlib.pyplot as plt\n",
    "%matplotlib inline\n",
    "\n",
    "import plotly.plotly as py\n",
    "import plotly.graph_objs as go\n",
    "import plotly.offline as offline"
   ]
  },
  {
   "cell_type": "code",
   "execution_count": null,
   "metadata": {
    "collapsed": false
   },
   "outputs": [],
   "source": [
    "servidores = pd.read_csv('servidores.csv', delimiter = \";\")\n",
    "servidores = servidores.drop(['Unnamed: 14'], axis=1)\n",
    "print(\"Cinco primeiras linhas da base de dados 'Servidores':\")\n",
    "servidores.head()"
   ]
  },
  {
   "cell_type": "code",
   "execution_count": null,
   "metadata": {
    "collapsed": false
   },
   "outputs": [],
   "source": [
    "servidores['ano_admissao'] = pd.to_datetime(servidores['admissao']).dt.year\n",
    "servidores['ano_desligamento'] = pd.to_datetime(servidores['data_desligamento']).dt.year\n",
    "servidores['tempo_servico'] = servidores['ano_desligamento'] - servidores['ano_admissao']\n",
    "servidores['count'] = 1"
   ]
  },
  {
   "cell_type": "markdown",
   "metadata": {},
   "source": [
    "Diante dos dados que dispomos, uma análise preliminar pode ser feita em torno do número de admissões e aposentadorias registrados todos os anos. Esses dados nos permitirão plotar um perfil da curva do número de servidores ativos na UFRN ao longo dos anos e investigar momentos de expansão e retração do corpo docente e técnico administrativo e como tais momentos se relacionam com acontecimentos internos e externos à instituição. "
   ]
  },
  {
   "cell_type": "code",
   "execution_count": null,
   "metadata": {
    "collapsed": false
   },
   "outputs": [],
   "source": [
    "docentes = servidores[servidores['categoria']=='Docente                       \\n']\n",
    "\n",
    "admissoes = docentes.groupby('ano_admissao').count()['count']\n",
    "\n",
    "desligamentos = docentes.groupby('ano_desligamento').count()['count']\n",
    "\n",
    "saldo = pd.DataFrame({'count_admissoes': admissoes, 'count_desligamentos': desligamentos})\n",
    "saldo.loc[saldo['count_admissoes'].isnull(), 'count_admissoes'] = 0.0\n",
    "saldo.loc[saldo['count_desligamentos'].isnull(), 'count_desligamentos'] = 0.0\n",
    "saldo['count'] = saldo['count_admissoes'] - saldo['count_desligamentos']\n",
    "\n",
    "ativos = pd.DataFrame({'ano': list(range(docentes['ano_admissao'].min(),2018))})\n",
    "def check_year(year):\n",
    "    year=int(year)\n",
    "    count = docentes.loc[(docentes['ano_admissao']<=year) & ((docentes['ano_desligamento']>year) | (docentes['ano_desligamento'].isnull())), 'count'].count()\n",
    "    return count\n",
    "ativos['count'] = ativos['ano'].apply(check_year)\n",
    "\n",
    "trace1 = go.Bar(\n",
    "    name='Aposentadorias',\n",
    "    x=desligamentos.index,\n",
    "    y=desligamentos.values,\n",
    "    textposition = 'auto',\n",
    "    marker=dict(\n",
    "        color='rgb(164,46,46)',\n",
    "        ),\n",
    ")\n",
    "\n",
    "trace2 = go.Bar(\n",
    "    name='Admissões',\n",
    "    x=admissoes.index,\n",
    "    y=admissoes.values,\n",
    "    textposition = 'auto',\n",
    "    marker=dict(\n",
    "        color='rgb(142,212,95)',\n",
    "        ),\n",
    ")\n",
    "\n",
    "trace3 = go.Scatter(\n",
    "    name='Ativos',\n",
    "    x=ativos['ano'],\n",
    "    y=ativos['count'],\n",
    "    textposition = 'auto',\n",
    "    marker=dict(\n",
    "        color='rgb(64,161,227)',\n",
    "        ),\n",
    ")\n",
    "trace4 = go.Scatter(\n",
    "    name='Saldo',\n",
    "    x=saldo.index,\n",
    "    y=saldo['count'],\n",
    "    marker=dict(\n",
    "        color='rgb(229,180,90)',\n",
    "        ),\n",
    "    mode = 'markers',\n",
    ")\n",
    "\n",
    "data = [trace1,trace2,trace3,trace4]\n",
    "layout = go.Layout(\n",
    "    title='Número de Docentes Ativos, Aposentadorias e Admissões por Ano na UFRN',\n",
    ")\n",
    "\n",
    "fig = go.Figure(data=data, layout=layout)\n",
    "offline.init_notebook_mode()\n",
    "offline.iplot(fig, filename='docentes_ativos_admissoes_desligamentos_ufrn')"
   ]
  },
  {
   "cell_type": "code",
   "execution_count": null,
   "metadata": {
    "collapsed": false
   },
   "outputs": [],
   "source": [
    "tecnicos = servidores[servidores['categoria']=='Técnico Administrativo']\n",
    "\n",
    "admissoes = tecnicos.groupby('ano_admissao').count()['count']\n",
    "\n",
    "desligamentos = tecnicos.groupby('ano_desligamento').count()['count']\n",
    "\n",
    "saldo = pd.DataFrame({'count_admissoes': admissoes, 'count_desligamentos': desligamentos})\n",
    "saldo.loc[saldo['count_admissoes'].isnull(), 'count_admissoes'] = 0.0\n",
    "saldo.loc[saldo['count_desligamentos'].isnull(), 'count_desligamentos'] = 0.0\n",
    "saldo['count'] = saldo['count_admissoes'] - saldo['count_desligamentos']\n",
    "\n",
    "ativos = pd.DataFrame({'ano': list(range(tecnicos['ano_admissao'].min(),2018))})\n",
    "def check_year(year):\n",
    "    year=int(year)\n",
    "    count = tecnicos.loc[(tecnicos['ano_admissao']<=year) & ((tecnicos['ano_desligamento']>year) | (tecnicos['ano_desligamento'].isnull())), 'count'].count()\n",
    "    return count\n",
    "ativos['count'] = ativos['ano'].apply(check_year)\n",
    "\n",
    "trace1 = go.Bar(\n",
    "    name='Aposentadorias',\n",
    "    x=desligamentos.index,\n",
    "    y=desligamentos.values,\n",
    "    textposition = 'auto',\n",
    "    marker=dict(\n",
    "        color='rgb(164,46,46)',\n",
    "        ),\n",
    ")\n",
    "\n",
    "trace2 = go.Bar(\n",
    "    name='Admissões',\n",
    "    x=admissoes.index,\n",
    "    y=admissoes.values,\n",
    "    textposition = 'auto',\n",
    "    marker=dict(\n",
    "        color='rgb(142,212,95)',\n",
    "        ),\n",
    ")\n",
    "\n",
    "trace3 = go.Scatter(\n",
    "    name='Ativos',\n",
    "    x=ativos['ano'],\n",
    "    y=ativos['count'],\n",
    "    textposition = 'auto',\n",
    "    marker=dict(\n",
    "        color='rgb(64,161,227)',\n",
    "        ),\n",
    ")\n",
    "trace4 = go.Scatter(\n",
    "    name='Saldo',\n",
    "    x=saldo.index,\n",
    "    y=saldo['count'],\n",
    "    marker=dict(\n",
    "        color='rgb(229,180,90)',\n",
    "        ),\n",
    "    mode = 'markers',\n",
    ")\n",
    "\n",
    "data = [trace1,trace2,trace3,trace4]\n",
    "layout = go.Layout(\n",
    "    title='Número de Técnicos Administrativos Ativos, Aposentadorias e Admissões por Ano na UFRN',\n",
    ")\n",
    "\n",
    "fig = go.Figure(data=data, layout=layout)\n",
    "offline.init_notebook_mode()\n",
    "offline.iplot(fig, filename='tecnicos_ativos_admissoes_desligamentos_ufrn')"
   ]
  },
  {
   "cell_type": "markdown",
   "metadata": {},
   "source": [
    "É necessário destacar alguns pontos a respeito de nossos dados.  \n",
    "  \n",
    "Só estão disponíveis registros de servidores em atividade ou que se aposentaram pela UFRN.\n",
    "Servidores que se desligaram da insituição por outros motivos (redistribuição, exoneração etc) não foram registrados no dataset (nem mesmo sua admissão). \n",
    "O dataset também não nos fornece a data de nascimento dos servidores ou o motivo da aposentadoria. \n",
    "Apenas as datas de admissão e desligamento da UFRN estão disponíveis e isso nos permite saber o tempo de serviço na instituição. Todavia, um tempo de serviço pequeno pode ser suficiente para aposentar-se, a depender das normas vigentes à época, do tipo de aposentadoria e de eventuais averbações de tempo de serviço."
   ]
  },
  {
   "cell_type": "markdown",
   "metadata": {},
   "source": [
    "As curvas com os números de docentes e técnicos ativos ao longo dos anos possuem comportamentos semelhantes. \n",
    "Três momentos merecem destaque: o rápido crescimento do número de servidores ativos nas décadas de 70 e 80; a diminuição do número de servidores ativos na década de 90; o crescimento do número de servidores ativos desde 2007. Esses três momentos contam um pouco da história da instituição."
   ]
  },
  {
   "cell_type": "markdown",
   "metadata": {},
   "source": [
    "O Portal de Dados Abertos não disponibiliza um dataset com registros de alunos ativos ou ex-alunos. Comparar tais dados com os dados de servidores seria o ideal. Todavia, há o recurso [Cursos](http://dados.ufrn.br/dataset/cursos-ufrn/resource/949be3d1-e85b-4d0f-9f60-1d9a7484bb06), com registros dos cursos de todas as modalidades oferecidos pela UFRN."
   ]
  },
  {
   "cell_type": "code",
   "execution_count": null,
   "metadata": {
    "collapsed": false
   },
   "outputs": [],
   "source": [
    "cursos = pd.read_csv('cursos-da-ufrn.csv', delimiter = \";\")\n",
    "print(\"Cinco primeiras linhas da base de dados 'Cursos':\")\n",
    "cursos.head()"
   ]
  },
  {
   "cell_type": "markdown",
   "metadata": {},
   "source": [
    "Esse dataset possui uma coluna que informa a Data de Fundação de cada curso. O recurso contém diversos dados faltantes: dos 117 registros, 47 não têm uma Data de Fundação informada. Muitos cursos criados pela UFRN nos últimos anos não possuem essa coluna preenchida, mas a informação está disponível para cursos mais tradicionais. É possível identificar, por exemplo, que <b>entre 1970 e 1979 foram criados ao menos 28 novos cursos de graduação presenciais na UFRN </b>(18 bacharelados e 10 licenciaturas).  \n",
    "\n",
    "Isso está diretamente relacionado com o primeiro momento que destacamos nas curvas, de rápido crescimento do número de servidores nos anos 1970 e 1980. Essa época possui altos índices de admissões e baixos índices de desligamentos. 1978 possui o maior número de admissões de docentes de toda a série; 1979, o de técnicos. O alto número de admissões se explica pela expansão da Universidade, que foi fundada em 1958, mas só nos anos 1970 e 1980 passou a ter a \"cara\" que conhecemos hoje. O baixo número de desligamentos se justifica pelo baixo número de servidores com condições de aposentadoria à época. O saldo entre admissões e desligamentos foi máximo nesse período e isso elevou o corpo de docentes e técnicos na UFRN, que na década de 80 já possuía um número de servidores ativos semelhante ao que tem hoje."
   ]
  },
  {
   "cell_type": "code",
   "execution_count": null,
   "metadata": {
    "collapsed": false
   },
   "outputs": [],
   "source": [
    "cursos[(cursos['ano_fundacao']>=1970) & (cursos['ano_fundacao']<1980)]['grau_academico'].value_counts();"
   ]
  },
  {
   "cell_type": "markdown",
   "metadata": {},
   "source": [
    "O segundo momento que destacamos é a diminuição do número de servidores ativos nos anos 1990. Trata-se de uma época de retração econômica no Brasil e a Universidade sentiu seus efeitos: não apenas interrompeu um ciclo de expansão como regrediu em diversas áreas.  \n",
    "\n",
    "A década de 90 já apresenta registros de aposentadorias bem mais relevantes do que as décadas anteriores. 1991 e 1995 apresentam os maiores números de aposentadorias de docentes em toda a série e também estão entre os maiores quanto a aposentadoria de técnicos administrativos. Todavia, o número de admissões não esteve a altura no período. Não havendo compensação das perdas, o número de servidores ativos na instituição diminuiu.\n",
    "\n",
    "\n",
    "Como identificar se os servidores se sentiram motivados a deixar a UFRN nesse período?\n",
    "A partir dos dados que dispomos, também é possível analisar o tempo de serviço médio (ou mediano) dos servidores que se aposentaram em um dado ano.  "
   ]
  },
  {
   "cell_type": "code",
   "execution_count": null,
   "metadata": {
    "collapsed": true
   },
   "outputs": [],
   "source": [
    "servidores = servidores[servidores['tempo_servico']>0];"
   ]
  },
  {
   "cell_type": "code",
   "execution_count": null,
   "metadata": {
    "collapsed": false
   },
   "outputs": [],
   "source": [
    "trace1 = go.Scatter(\n",
    "    name='Média',\n",
    "    x=servidores.groupby('ano_desligamento').mean()['tempo_servico'].index,\n",
    "    y=servidores.groupby('ano_desligamento').mean()['tempo_servico'].values,\n",
    "    textposition = 'auto',\n",
    "    marker=dict(\n",
    "        color='rgb(64,161,227)',\n",
    "        ),\n",
    ")\n",
    "\n",
    "trace2 = go.Scatter(\n",
    "    name='Mediana',\n",
    "    x=servidores.groupby('ano_desligamento').median()['tempo_servico'].index,\n",
    "    y=servidores.groupby('ano_desligamento').median()['tempo_servico'].values,\n",
    "    textposition = 'auto',\n",
    "    marker=dict(\n",
    "        color='rgb(222,90,13)',\n",
    "        ),\n",
    ")\n",
    "\n",
    "\n",
    "data = [trace1,trace2]\n",
    "layout = go.Layout(\n",
    "    title='Tempo de Serviço (Anos) na UFRN dos Servidores Aposentados por Ano da Aposentadoria',\n",
    ")\n",
    "\n",
    "fig = go.Figure(data=data, layout=layout)\n",
    "offline.init_notebook_mode()\n",
    "offline.iplot(fig, filename='tempo_servico_aposentadoria_ufrn')"
   ]
  },
  {
   "cell_type": "markdown",
   "metadata": {},
   "source": [
    "Uma observação importante sobre essa e as demais análises de tempo de serviço: foram excluídos registros (provavelmente errôneos) em que os anos de admissão e desligamento do servidor são os mesmos (às vezes, até a data é a mesma). É algo a ser corrigido na fonte dos datasets.\n",
    "\n",
    "Nos anos 1990 a média do tempo de serviço entre aposentados pela UFRN é inferior ao que era na década de 80. Esse número de manteve por um período e desde os anos 2000 tem crescido continuamente. Hoje, é cerca de 15 anos mais alto do que há duas décadas. A década de 90 também tem o maior número de servidores aposentados com tempo de serviço inferior a 15 anos. É possível afirmar que os servidores estavam saindo da UFRN mais cedo neste período."
   ]
  },
  {
   "cell_type": "code",
   "execution_count": null,
   "metadata": {
    "collapsed": false
   },
   "outputs": [],
   "source": [
    "trace1 = go.Scatter(\n",
    "    name='Média',\n",
    "    x=servidores[servidores['tempo_servico']<15].groupby('ano_desligamento').count()['count'].index,\n",
    "    y=servidores[servidores['tempo_servico']<15].groupby('ano_desligamento').count()['count'].values,\n",
    "    textposition = 'auto',\n",
    "    marker=dict(\n",
    "        color='rgb(64,161,227)',\n",
    "        ),\n",
    ")\n",
    "\n",
    "\n",
    "data = [trace1]\n",
    "layout = go.Layout(\n",
    "    title='Número de Servidores da UFRN Aposentados com Tempo de Serviço Inferior a 15 Anos por Ano de Aposentadoria',\n",
    ")\n",
    "\n",
    "fig = go.Figure(data=data, layout=layout)\n",
    "offline.init_notebook_mode()\n",
    "offline.iplot(fig, filename='aposentados_15_tempo_ufrn')"
   ]
  },
  {
   "cell_type": "markdown",
   "metadata": {},
   "source": [
    "O terceiro momento que destacamos refere-se à retomada do crescimento do número de servidores ativos na UFRN a partir de 2008.  \n",
    "\n",
    "Em 2007 foi instituído o [Programa de Apoio a Planos de Reestruturação e Expansão das Universidades Federais - REUNI](http://www.planalto.gov.br/ccivil_03/_Ato2007-2010/2007/Decreto/D6096.htm). A partir de então, a UFRN, assim como outras universidades federais, recebeu recursos para compra de equipamentos, reforma e construção de prédios e, claro, contratação de pessoal. Isso explica o aumento do número de admissões desde então. O número de aposentadorias esteve estável na última década e foi geralmente superado pelo número de admissões, gerando um saldo positivo para o número de servidores ativos.  \n",
    "\n",
    "2009 e 2010 são dois dos três anos com o maior número de novos docentes admitidos pela UFRN, dentre os que estão em atividade ou se aposentaram pela instituição. Em 2010 a Universidade finalmente supera o número de docentes ativos que teve durante a década de 1980.  \n",
    "\n",
    "Em nossos gráficos, o crescimento do número de técnicos administrativos não acompanhou o crescimento do número de docentes. Uma explicação para isso é a maior rotatividade na primeira categoria (com maior frequência os servidores se desligam por exoneração para assumir outro vínculo) aliada ao fato de que nossos dados não contabilizam admissões de ex-servidores que não se aposentaram pela UFRN. Um servidor admitido em 2012 e que solicitou exoneração em 2015, por exemplo, não pôde ser computador como ativo entre 2012 e 2015 (o Portal de Dados Aberto da UFRN não nos fornece, hoje, recursos que nos possibilitem fazer isso).  \n",
    "\n",
    "Vale salientar que a expansão da UFRN na última década foi justificada por novos compromissos assumidos pela instituição, respondendo uma demanda da sociedade. Ou seja, a contratação de docentes e técnicos se deu mediante a abertura de novos cursos e vagas de alunos nos níveis técnico, superior e de pós-graduação. Tendo em vista que a quantidade de aposentadorias tem se mantido estável, mas não é insignificante, um bom número de novas admissões será necessário todos os anos ao menos para que se mantenha a quantidade de servidores ativos na instituição e se possa atender aos compromissos acordados."
   ]
  },
  {
   "cell_type": "code",
   "execution_count": 298,
   "metadata": {
    "collapsed": false
   },
   "outputs": [
    {
     "data": {
      "text/html": [
       "<script>\n",
       "code_show=true; \n",
       "function code_toggle() {\n",
       " if (code_show){\n",
       " $('div.input').hide();\n",
       " } else {\n",
       " $('div.input').show();\n",
       " }\n",
       " code_show = !code_show\n",
       "} \n",
       "$( document ).ready(code_toggle);\n",
       "</script>\n",
       "<form action=\"javascript:code_toggle()\"><input type=\"submit\" value=\"Click here to toggle on/off the raw code.\"></form>"
      ],
      "text/plain": [
       "<IPython.core.display.HTML object>"
      ]
     },
     "execution_count": 298,
     "metadata": {},
     "output_type": "execute_result"
    }
   ],
   "source": [
    "from IPython.display import HTML\n",
    "\n",
    "HTML('''<script>\n",
    "code_show=true; \n",
    "function code_toggle() {\n",
    " if (code_show){\n",
    " $('div.input').hide();\n",
    " } else {\n",
    " $('div.input').show();\n",
    " }\n",
    " code_show = !code_show\n",
    "} \n",
    "$( document ).ready(code_toggle);\n",
    "</script>\n",
    "<form action=\"javascript:code_toggle()\"><input type=\"submit\" value=\"Click here to toggle on/off the raw code.\"></form>''')"
   ]
  },
  {
   "cell_type": "code",
   "execution_count": null,
   "metadata": {
    "collapsed": true
   },
   "outputs": [],
   "source": [
    "#docentes cargo\n",
    "#tecnicos cargo\n",
    "\n",
    "#tempo\n",
    "#box plot tempo"
   ]
  },
  {
   "cell_type": "code",
   "execution_count": 299,
   "metadata": {
    "collapsed": false
   },
   "outputs": [
    {
     "ename": "NameError",
     "evalue": "name 'IPython' is not defined",
     "output_type": "error",
     "traceback": [
      "\u001b[0;31m---------------------------------------------------------------------------\u001b[0m",
      "\u001b[0;31mNameError\u001b[0m                                 Traceback (most recent call last)",
      "\u001b[0;32m<ipython-input-299-81c0fbe45515>\u001b[0m in \u001b[0;36m<module>\u001b[0;34m()\u001b[0m\n\u001b[0;32m----> 1\u001b[0;31m \u001b[0mIPython\u001b[0m\u001b[0;34m.\u001b[0m\u001b[0mload_extensions\u001b[0m\u001b[0;34m(\u001b[0m\u001b[0;34m'usability/hide_input_all'\u001b[0m\u001b[0;34m)\u001b[0m\u001b[0;34m\u001b[0m\u001b[0m\n\u001b[0m",
      "\u001b[0;31mNameError\u001b[0m: name 'IPython' is not defined"
     ]
    }
   ],
   "source": [
    "IPython.load_extensions('usability/hide_input_all')"
   ]
  },
  {
   "cell_type": "code",
   "execution_count": null,
   "metadata": {
    "collapsed": true
   },
   "outputs": [],
   "source": []
  }
 ],
 "metadata": {
  "kernelspec": {
   "display_name": "Python 3",
   "language": "python",
   "name": "python3"
  },
  "language_info": {
   "codemirror_mode": {
    "name": "ipython",
    "version": 3
   },
   "file_extension": ".py",
   "mimetype": "text/x-python",
   "name": "python",
   "nbconvert_exporter": "python",
   "pygments_lexer": "ipython3",
   "version": "3.6.0"
  }
 },
 "nbformat": 4,
 "nbformat_minor": 2
}
