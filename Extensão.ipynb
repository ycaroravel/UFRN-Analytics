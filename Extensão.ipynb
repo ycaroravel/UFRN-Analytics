{
 "cells": [
  {
   "cell_type": "markdown",
   "metadata": {},
   "source": [
    "# UFRN Analytics\n",
    "\n",
    "### Análise sobre os dados de Extensão"
   ]
  },
  {
   "cell_type": "markdown",
   "metadata": {
    "collapsed": true
   },
   "source": [
    "- Bancos de dados relacionados a [<b>Extensão</b>](http://dados.ufrn.br/group/extensao) no Portal de Dados Abertos da UFRN:  \n",
    "\n",
    "[<b>Produtos de Extensão:</b>](http://dados.ufrn.br/dataset/produtos-de-extensao) Relação de produtos de extensão gerados pela UFRN  \n",
    "[<b>Atividades de Extensão:</b>](http://dados.ufrn.br/dataset/atividades-de-extensao) Relação das atividades de extensão da UFRN\n",
    "\n",
    "- Outros bancos de dados relevantes:\n",
    "\n",
    "[<b>Docentes:</b>](http://dados.ufrn.br/dataset/docentes/resource/ff0a457e-76fa-4aca-ad99-48aebd7db070) Docentes da UFRN"
   ]
  },
  {
   "cell_type": "code",
   "execution_count": 2,
   "metadata": {
    "collapsed": true
   },
   "outputs": [],
   "source": [
    "# import libraries\n",
    "import pandas as pd\n",
    "import numpy as np\n",
    "import matplotlib.pyplot as plt\n",
    "import urllib.request\n",
    "import re\n",
    "from datetime import datetime as dt\n",
    "%matplotlib inline"
   ]
  },
  {
   "cell_type": "markdown",
   "metadata": {},
   "source": [
    "# Produtos de Extensão\n",
    "\n",
    "A [Resolução n 077/2017 - CONSEPE/UFRN](https://sigrh.ufrn.br/sigrh/downloadArquivo?idArquivo=4186769&key=7725dd34a0808e1e0cf2f8d29894d8d3), que dispõe sobre as modalidades e ações de extensão universitária na Universidade Federal do Rio Grande do Norte, estabelece:\n",
    "\n",
    "<i>Art. 17. Os produtos acadêmicos caracterizam-se por serem decorrentes das ações de extensão, ensino e pesquisa para difusão e divulgação artística, cultural, científica ou tecnológica.  \n",
    "Parágrafo único. Os produtos são caracterizados por livros, anais, artigos, textos, revistas, manuais, cartilhas, jornais e relatórios, materiais didáticos, vídeos, filmes, programas de rádio e TV, softwares, jogos, modelos didáticos, partituras, arranjos musicais, peças teatrais, mídias informacionais, performances artísticas dentre outros.</i>"
   ]
  },
  {
   "cell_type": "code",
   "execution_count": 3,
   "metadata": {
    "collapsed": false,
    "scrolled": true
   },
   "outputs": [
    {
     "data": {
      "text/html": [
       "<div>\n",
       "<table border=\"1\" class=\"dataframe\">\n",
       "  <thead>\n",
       "    <tr style=\"text-align: right;\">\n",
       "      <th></th>\n",
       "      <th>titulo</th>\n",
       "      <th>produto_gerado</th>\n",
       "      <th>tiragem</th>\n",
       "      <th>situacao</th>\n",
       "      <th>tipo_projeto</th>\n",
       "      <th>tipo_produto</th>\n",
       "      <th>ano</th>\n",
       "      <th>data_inicio</th>\n",
       "      <th>data_fim</th>\n",
       "      <th>unidade</th>\n",
       "      <th>forma_projeto</th>\n",
       "      <th>area_principal</th>\n",
       "      <th>area_conhecimento_cnpq</th>\n",
       "      <th>quantidade_discente</th>\n",
       "      <th>publico_estimado</th>\n",
       "      <th>bolsas_concedidas</th>\n",
       "    </tr>\n",
       "  </thead>\n",
       "  <tbody>\n",
       "    <tr>\n",
       "      <th>0</th>\n",
       "      <td>3ª edição da Revista Transgressões: Ciências C...</td>\n",
       "      <td>NaN</td>\n",
       "      <td>1</td>\n",
       "      <td>CONCLUÍDA</td>\n",
       "      <td>PRODUTO</td>\n",
       "      <td>REVISTA</td>\n",
       "      <td>2014</td>\n",
       "      <td>2014-01-01</td>\n",
       "      <td>2014-05-20</td>\n",
       "      <td>DEPARTAMENTO DE DIREITO PUBLICO</td>\n",
       "      <td>INTERNO</td>\n",
       "      <td>DIREITOS HUMANOS E JUSTIÇA</td>\n",
       "      <td>Ciências Sociais Aplicadas</td>\n",
       "      <td>18</td>\n",
       "      <td>50</td>\n",
       "      <td>0</td>\n",
       "    </tr>\n",
       "  </tbody>\n",
       "</table>\n",
       "</div>"
      ],
      "text/plain": [
       "                                              titulo produto_gerado  tiragem  \\\n",
       "0  3ª edição da Revista Transgressões: Ciências C...            NaN        1   \n",
       "\n",
       "    situacao tipo_projeto tipo_produto   ano data_inicio    data_fim  \\\n",
       "0  CONCLUÍDA      PRODUTO      REVISTA  2014  2014-01-01  2014-05-20   \n",
       "\n",
       "                           unidade forma_projeto              area_principal  \\\n",
       "0  DEPARTAMENTO DE DIREITO PUBLICO       INTERNO  DIREITOS HUMANOS E JUSTIÇA   \n",
       "\n",
       "       area_conhecimento_cnpq  quantidade_discente  publico_estimado  \\\n",
       "0  Ciências Sociais Aplicadas                   18                50   \n",
       "\n",
       "   bolsas_concedidas  \n",
       "0                  0  "
      ]
     },
     "execution_count": 3,
     "metadata": {},
     "output_type": "execute_result"
    }
   ],
   "source": [
    "# import dataset\n",
    "produtos = pd.read_csv('produtos-de-extensao.csv', delimiter = \";\")\n",
    "# drop unnecessary column, previously detected\n",
    "produtos.drop(['Unnamed: 16'], axis=1, inplace=True);\n",
    "# show the first line\n",
    "produtos.head(1)"
   ]
  },
  {
   "cell_type": "code",
   "execution_count": 4,
   "metadata": {
    "collapsed": false
   },
   "outputs": [
    {
     "name": "stdout",
     "output_type": "stream",
     "text": [
      "Número de linhas:  335\n",
      "Número de colunas:  16\n"
     ]
    }
   ],
   "source": [
    "print(\"Número de linhas: \", produtos.shape[0])\n",
    "print(\"Número de colunas: \", produtos.shape[1])"
   ]
  },
  {
   "cell_type": "code",
   "execution_count": 5,
   "metadata": {
    "collapsed": false
   },
   "outputs": [
    {
     "data": {
      "text/plain": [
       "Index(['titulo', 'produto_gerado', 'tiragem', 'situacao', 'tipo_projeto',\n",
       "       'tipo_produto', 'ano', 'data_inicio', 'data_fim', 'unidade',\n",
       "       'forma_projeto', 'area_principal', 'area_conhecimento_cnpq',\n",
       "       'quantidade_discente', 'publico_estimado', 'bolsas_concedidas'],\n",
       "      dtype='object')"
      ]
     },
     "execution_count": 5,
     "metadata": {},
     "output_type": "execute_result"
    }
   ],
   "source": [
    "produtos.columns"
   ]
  },
  {
   "cell_type": "markdown",
   "metadata": {},
   "source": [
    "O dataset possui 16 colunas. Apesar das descrições presentes em seu [dicionário de dados](http://dados.ufrn.br/dataset/produtos-de-extensao/resource/a393e7ab-fcdb-4522-978b-f954b2348ca1), uma análise dos valores presentes em cada coluna nos permite analisar a consistência dos dados.  \n",
    "Por exemplo, através da análise dos valores presentes na coluna <b>'ano'</b>, descobrimos que o dataset possui registros de Produtos de Extensão concebidos entre 2008 e 2017."
   ]
  },
  {
   "cell_type": "code",
   "execution_count": 6,
   "metadata": {
    "collapsed": false
   },
   "outputs": [
    {
     "data": {
      "text/plain": [
       "2008    29\n",
       "2009    22\n",
       "2010    51\n",
       "2011    38\n",
       "2012    36\n",
       "2013    22\n",
       "2014    22\n",
       "2015    36\n",
       "2016    40\n",
       "2017    39\n",
       "Name: ano, dtype: int64"
      ]
     },
     "execution_count": 6,
     "metadata": {},
     "output_type": "execute_result"
    }
   ],
   "source": [
    "produtos['ano'].value_counts().sort_index()"
   ]
  },
  {
   "cell_type": "markdown",
   "metadata": {},
   "source": [
    "Há produtos \"EM EXECUÇÃO\", mas a maioria deles tem status \"CONCLUÍDO\" e isso pode ser observado através da coluna <b>'situacao'</b>.  \n",
    "Através da coluna <b>'forma_projeto'</b>, vemos que todos os produtos são oriundos de projetos internos."
   ]
  },
  {
   "cell_type": "code",
   "execution_count": 7,
   "metadata": {
    "collapsed": false
   },
   "outputs": [
    {
     "data": {
      "text/plain": [
       "CONCLUÍDA      302\n",
       "EM EXECUÇÃO     33\n",
       "Name: situacao, dtype: int64"
      ]
     },
     "execution_count": 7,
     "metadata": {},
     "output_type": "execute_result"
    }
   ],
   "source": [
    "produtos['situacao'].value_counts()"
   ]
  },
  {
   "cell_type": "code",
   "execution_count": 8,
   "metadata": {
    "collapsed": false
   },
   "outputs": [
    {
     "data": {
      "text/plain": [
       "INTERNO    335\n",
       "Name: forma_projeto, dtype: int64"
      ]
     },
     "execution_count": 8,
     "metadata": {},
     "output_type": "execute_result"
    }
   ],
   "source": [
    "produtos['forma_projeto'].value_counts()"
   ]
  },
  {
   "cell_type": "markdown",
   "metadata": {},
   "source": [
    "Como visto no trecho da resolução colocado acima, produtos de extensão tem natureza diversa.  \n",
    "A coluna <b>'tipo_produto'</b> nos permite listar os tipos de produtos presentes no dataset."
   ]
  },
  {
   "cell_type": "code",
   "execution_count": 9,
   "metadata": {
    "collapsed": false
   },
   "outputs": [
    {
     "data": {
      "text/plain": [
       "OUTROS                          60\n",
       "ARTIGO                          43\n",
       "PRODUTO AUDIOVISUAL - VÍDEO     41\n",
       "LIVRO                           38\n",
       "RELATÓRIO TÉCNICO               26\n",
       "REVISTA                         24\n",
       "CARTILHA                        23\n",
       "MANUAL                          19\n",
       "APLICATIVO PARA COMPUTADOR      12\n",
       "COMUNICAÇÃO                      8\n",
       "PRODUTO AUDIOVISUAL - DVD        7\n",
       "PRODUTO ARTÍSTICO                7\n",
       "PROGRAMA DE TV                   6\n",
       "JORNAL                           5\n",
       "PRODUTO AUDIOVISUAL - OUTROS     4\n",
       "PRODUTO AUDIOVISUAL - CD         3\n",
       "PROGRAMA DE RÁDIO                3\n",
       "PRODUTO AUDIOVISUAL - FILME      3\n",
       "JOGO EDUCATIVO                   2\n",
       "ANAIS                            1\n",
       "Name: tipo_produto, dtype: int64"
      ]
     },
     "execution_count": 9,
     "metadata": {},
     "output_type": "execute_result"
    }
   ],
   "source": [
    "produtos['tipo_produto'].value_counts()"
   ]
  },
  {
   "cell_type": "markdown",
   "metadata": {},
   "source": [
    "A Universidade também pode conceder bolsas de extensão para a criação de produtos de extensão.  \n",
    "Mais de 90% dos produtos é feito sem a concessão de bolsas. Cerca de 8% dos produtos de extensão registrados contou com ao menos uma bolsa de extensão. O número máximo de bolsas concedidas por produto é 2 e isso aconteceu em cerca de 2% dos casos."
   ]
  },
  {
   "cell_type": "code",
   "execution_count": 10,
   "metadata": {
    "collapsed": false
   },
   "outputs": [
    {
     "data": {
      "text/plain": [
       "0    0.916418\n",
       "1    0.059701\n",
       "2    0.023881\n",
       "Name: bolsas_concedidas, dtype: float64"
      ]
     },
     "execution_count": 10,
     "metadata": {},
     "output_type": "execute_result"
    }
   ],
   "source": [
    "produtos['bolsas_concedidas'].value_counts(normalize=True)"
   ]
  },
  {
   "cell_type": "markdown",
   "metadata": {},
   "source": [
    "Após uma primeira análise exploratória das colunas do dataset, pode-se passar à utilização de ferramentas de visualização que nos ajudem a compreender com mais profundidade "
   ]
  },
  {
   "cell_type": "code",
   "execution_count": 11,
   "metadata": {
    "collapsed": false
   },
   "outputs": [
    {
     "data": {
      "text/html": [
       "<iframe id=\"igraph\" scrolling=\"no\" style=\"border:none;\" seamless=\"seamless\" src=\"https://plot.ly/~ycaroravel/59.embed\" height=\"525px\" width=\"100%\"></iframe>"
      ],
      "text/plain": [
       "<plotly.tools.PlotlyDisplay object>"
      ]
     },
     "execution_count": 11,
     "metadata": {},
     "output_type": "execute_result"
    }
   ],
   "source": [
    "import plotly.plotly as py\n",
    "import plotly.graph_objs as go\n",
    "\n",
    "trace0 = go.Bar(\n",
    "    x=produtos['ano'].value_counts().sort_index().index,\n",
    "    y=produtos['ano'].value_counts().sort_index().values,\n",
    "    text=(produtos['ano'].value_counts(normalize=True)*100).sort_index().values,\n",
    "    marker=dict(\n",
    "        color='rgb(158,202,225)',\n",
    "        line=dict(\n",
    "            color='rgb(8,48,107)',\n",
    "            width=1.5,\n",
    "        )\n",
    "    ),\n",
    "    opacity=0.6\n",
    ")\n",
    "\n",
    "data = [trace0]\n",
    "layout = go.Layout(\n",
    "    title='Produtos de Extensão 2008 - 2017',\n",
    ")\n",
    "\n",
    "fig = go.Figure(data=data, layout=layout)\n",
    "py.iplot(fig, filename='produtos_extensao_ano')"
   ]
  },
  {
   "cell_type": "code",
   "execution_count": 12,
   "metadata": {
    "collapsed": false
   },
   "outputs": [
    {
     "data": {
      "text/html": [
       "<iframe id=\"igraph\" scrolling=\"no\" style=\"border:none;\" seamless=\"seamless\" src=\"https://plot.ly/~ycaroravel/63.embed\" height=\"525px\" width=\"100%\"></iframe>"
      ],
      "text/plain": [
       "<plotly.tools.PlotlyDisplay object>"
      ]
     },
     "execution_count": 12,
     "metadata": {},
     "output_type": "execute_result"
    }
   ],
   "source": [
    "import plotly.plotly as py\n",
    "import plotly.graph_objs as go\n",
    "\n",
    "fig = {\n",
    "  \"data\": [\n",
    "    {\n",
    "      \"values\": produtos['tipo_produto'].value_counts().values,\n",
    "      \"labels\": produtos['tipo_produto'].value_counts().index,\n",
    "      \"domain\": {\"x\": [0, .48]},\n",
    "      \"name\": \"Tipo\",\n",
    "      \"hoverinfo\":\"label+percent+name\",\n",
    "      \"hole\": .4,\n",
    "      \"type\": \"pie\"\n",
    "    }],\n",
    "  \"layout\": {\n",
    "        \"title\":\"Produtos de Extensão 2008 - 2017\",\n",
    "        \"annotations\": [\n",
    "            {\n",
    "                \"font\": {\n",
    "                    \"size\": 20\n",
    "                },\n",
    "                \"showarrow\": False,\n",
    "                \"text\": \"Produtos\",\n",
    "                \"x\": 0.20,\n",
    "                \"y\": 0.5\n",
    "            }\n",
    "        ],\n",
    "      'showlegend': False\n",
    "    }\n",
    "}\n",
    "py.iplot(fig, filename='produtos_extensao_tipo')"
   ]
  },
  {
   "cell_type": "markdown",
   "metadata": {},
   "source": [
    "Outra análise viável diz respeito à diferença de tempo entre as datas de início e término de cada produto."
   ]
  },
  {
   "cell_type": "code",
   "execution_count": 13,
   "metadata": {
    "collapsed": false
   },
   "outputs": [],
   "source": [
    "produtos['data_inicio'] = pd.to_datetime(produtos['data_inicio'])\n",
    "produtos['data_fim'] = pd.to_datetime(produtos['data_fim'])\n",
    "duracao = (produtos['data_fim'] - produtos['data_inicio'])"
   ]
  },
  {
   "cell_type": "code",
   "execution_count": 14,
   "metadata": {
    "collapsed": false
   },
   "outputs": [
    {
     "data": {
      "text/html": [
       "<iframe id=\"igraph\" scrolling=\"no\" style=\"border:none;\" seamless=\"seamless\" src=\"https://plot.ly/~ycaroravel/67.embed\" height=\"525px\" width=\"100%\"></iframe>"
      ],
      "text/plain": [
       "<plotly.tools.PlotlyDisplay object>"
      ]
     },
     "execution_count": 14,
     "metadata": {},
     "output_type": "execute_result"
    }
   ],
   "source": [
    "import plotly.plotly as py\n",
    "import plotly.graph_objs as go\n",
    "\n",
    "trace = go.Histogram(\n",
    "    x=duracao.dt.days,\n",
    "    opacity=0.6\n",
    ")\n",
    "\n",
    "data = [trace]\n",
    "layout = go.Layout(\n",
    "    title='Número de Dias para Criação de Produtos de Extensão 2008 - 2017',\n",
    "    xaxis=dict(\n",
    "        title='Número de Dias'\n",
    "    ),\n",
    "    yaxis=dict(\n",
    "        title='Quantidade de Produtos'\n",
    "    ),\n",
    "    bargap=0.2,\n",
    "    bargroupgap=0.1\n",
    ")\n",
    "\n",
    "fig = go.Figure(data=data, layout=layout)\n",
    "\n",
    "py.iplot(fig, filename='produtos_dias')"
   ]
  },
  {
   "cell_type": "markdown",
   "metadata": {},
   "source": [
    "# Atividades de Extensão\n",
    "\n",
    "O dataset dedicado às atividades de extensão possui um número maior e mais diverso de registros. \n",
    "\n",
    "De acordo com a [Resolução n 077/2017 - CONSEPE/UFRN](https://sigrh.ufrn.br/sigrh/downloadArquivo?idArquivo=4186769&key=7725dd34a0808e1e0cf2f8d29894d8d3), são consideradas ações de extensão universitária: cursos, eventos, produtos, prestação de serviços. A resolução também estabelece que as ações deverão ser formalizadas por meio de projetos e programas, que constituem as modalidades de extensão na UFRN.  \n",
    "\n",
    "Vale salientar que a resolução mencionada acima entrou em vigor em 27 de junho de 2017, substituindo a [Resolução n 053/2008 - CONSEPE/UFRN](https://sigrh.ufrn.br/sigrh/downloadArquivo?idArquivo=78156&key=19550480c9323a62d0e0d4a1aa99c4df).  \n",
    "No documento anterior, que vigorava durante o registro da maioria absoluta dos dados presentes no dataset, considerava-se como modalidades das ações de extensão: programas, projetos, cursos, eventos, produtos, prestação de serviços."
   ]
  },
  {
   "cell_type": "code",
   "execution_count": 54,
   "metadata": {
    "collapsed": false,
    "scrolled": true
   },
   "outputs": [
    {
     "data": {
      "text/html": [
       "<div>\n",
       "<table border=\"1\" class=\"dataframe\">\n",
       "  <thead>\n",
       "    <tr style=\"text-align: right;\">\n",
       "      <th></th>\n",
       "      <th>ano</th>\n",
       "      <th>tipo_atividade</th>\n",
       "      <th>titulo</th>\n",
       "      <th>data_inicio</th>\n",
       "      <th>data_fim</th>\n",
       "      <th>coordenador</th>\n",
       "      <th>area_tematica</th>\n",
       "      <th>situacao</th>\n",
       "      <th>tipo_projeto</th>\n",
       "      <th>bolsas_solicitadas</th>\n",
       "      <th>bolsas_concedidas</th>\n",
       "      <th>publico_interno</th>\n",
       "      <th>bolsas_edital</th>\n",
       "      <th>numero_edital</th>\n",
       "      <th>edital</th>\n",
       "      <th>municipio</th>\n",
       "    </tr>\n",
       "  </thead>\n",
       "  <tbody>\n",
       "    <tr>\n",
       "      <th>0</th>\n",
       "      <td>2017</td>\n",
       "      <td>CURSO</td>\n",
       "      <td>Arduino Básico</td>\n",
       "      <td>2017-05-02</td>\n",
       "      <td>2017-05-04</td>\n",
       "      <td>JOSE HENRIQUE FERNANDEZ</td>\n",
       "      <td>TECNOLOGIA E PRODUÇÃO</td>\n",
       "      <td>AGUARDANDO APROVAÇÃO DOS DEPARTAMENTOS</td>\n",
       "      <td>EXTENSÃO</td>\n",
       "      <td>0</td>\n",
       "      <td>0</td>\n",
       "      <td>30</td>\n",
       "      <td>NaN</td>\n",
       "      <td>NaN</td>\n",
       "      <td>NaN</td>\n",
       "      <td>NaN</td>\n",
       "    </tr>\n",
       "  </tbody>\n",
       "</table>\n",
       "</div>"
      ],
      "text/plain": [
       "    ano tipo_atividade          titulo data_inicio    data_fim  \\\n",
       "0  2017          CURSO  Arduino Básico  2017-05-02  2017-05-04   \n",
       "\n",
       "               coordenador          area_tematica  \\\n",
       "0  JOSE HENRIQUE FERNANDEZ  TECNOLOGIA E PRODUÇÃO   \n",
       "\n",
       "                                 situacao tipo_projeto bolsas_solicitadas  \\\n",
       "0  AGUARDANDO APROVAÇÃO DOS DEPARTAMENTOS     EXTENSÃO                  0   \n",
       "\n",
       "  bolsas_concedidas publico_interno  bolsas_edital numero_edital edital  \\\n",
       "0                 0              30            NaN           NaN    NaN   \n",
       "\n",
       "   municipio  \n",
       "0        NaN  "
      ]
     },
     "execution_count": 54,
     "metadata": {},
     "output_type": "execute_result"
    }
   ],
   "source": [
    "# import dataset\n",
    "atividades = pd.read_csv('atividades-de-extensao.csv', delimiter = \";\")\n",
    "# drop some unnecessary columns and lines\n",
    "atividades = atividades[atividades['tipo_projeto']=='EXTENSÃO']\n",
    "atividades.drop(['Unnamed: 16', 'Unnamed: 17'], axis=1, inplace=True)\n",
    "# correct this line\n",
    "atividades.loc[atividades['data_fim']=='3016-12-18','data_fim'] = '2016-12-18'\n",
    "atividades.loc[atividades['data_fim']=='2107-12-31','data_fim'] = '2017-12-31'\n",
    "# show the first line\n",
    "atividades.head(1)"
   ]
  },
  {
   "cell_type": "code",
   "execution_count": 16,
   "metadata": {
    "collapsed": false
   },
   "outputs": [
    {
     "name": "stdout",
     "output_type": "stream",
     "text": [
      "Número de linhas:  8083\n",
      "Número de colunas:  16\n"
     ]
    }
   ],
   "source": [
    "print(\"Número de linhas: \", atividades.shape[0])\n",
    "print(\"Número de colunas: \", atividades.shape[1])"
   ]
  },
  {
   "cell_type": "code",
   "execution_count": 34,
   "metadata": {
    "collapsed": false
   },
   "outputs": [],
   "source": []
  },
  {
   "cell_type": "code",
   "execution_count": 17,
   "metadata": {
    "collapsed": false
   },
   "outputs": [
    {
     "data": {
      "text/plain": [
       "Index(['ano', 'tipo_atividade', 'titulo', 'data_inicio', 'data_fim',\n",
       "       'coordenador', 'area_tematica', 'situacao', 'tipo_projeto',\n",
       "       'bolsas_solicitadas', 'bolsas_concedidas', 'publico_interno',\n",
       "       'bolsas_edital', 'numero_edital', 'edital', 'municipio'],\n",
       "      dtype='object')"
      ]
     },
     "execution_count": 17,
     "metadata": {},
     "output_type": "execute_result"
    }
   ],
   "source": [
    "atividades.columns"
   ]
  },
  {
   "cell_type": "code",
   "execution_count": null,
   "metadata": {
    "collapsed": true
   },
   "outputs": [],
   "source": []
  },
  {
   "cell_type": "code",
   "execution_count": 18,
   "metadata": {
    "collapsed": false
   },
   "outputs": [
    {
     "data": {
      "text/plain": [
       "2014    1806\n",
       "2015    2332\n",
       "2016    2231\n",
       "2017    1714\n",
       "Name: ano, dtype: int64"
      ]
     },
     "execution_count": 18,
     "metadata": {},
     "output_type": "execute_result"
    }
   ],
   "source": [
    "atividades['ano'].value_counts().sort_index()"
   ]
  },
  {
   "cell_type": "code",
   "execution_count": 27,
   "metadata": {
    "collapsed": false
   },
   "outputs": [
    {
     "data": {
      "text/plain": [
       "AGUARDANDO APROVAÇÃO DOS DEPARTAMENTOS           102\n",
       "AGUARDANDO AVALIAÇÃO                               1\n",
       "ANALISANDO SOLICITAÇÃO DE RECONSIDERAÇÃO           4\n",
       "APROVADO COM RECURSOS                             84\n",
       "APROVADO SEM RECURSOS                            467\n",
       "CONCLUÍDA                                       5305\n",
       "EM AVALIAÇÃO                                      28\n",
       "EM EXECUÇÃO                                      842\n",
       "NÃO APROVADA                                     334\n",
       "NÃO APROVADO PELOS DEPARTAMENTOS                  16\n",
       "PENDENTE DE RELATÓRIO                            624\n",
       "PROJETO CANCELADO                                249\n",
       "PROPOSTA DEVOLVIDA PARA COORDENADOR REEDITAR       1\n",
       "SUBMETIDA                                         26\n",
       "Name: situacao, dtype: int64"
      ]
     },
     "execution_count": 27,
     "metadata": {},
     "output_type": "execute_result"
    }
   ],
   "source": [
    "atividades['situacao'].value_counts().sort_index()"
   ]
  },
  {
   "cell_type": "code",
   "execution_count": null,
   "metadata": {
    "collapsed": false
   },
   "outputs": [],
   "source": []
  },
  {
   "cell_type": "code",
   "execution_count": 28,
   "metadata": {
    "collapsed": false
   },
   "outputs": [
    {
     "data": {
      "text/plain": [
       "CURSO       1215\n",
       "EVENTO      3387\n",
       "PRODUTO      147\n",
       "PROGRAMA      73\n",
       "PROJETO     3261\n",
       "Name: tipo_atividade, dtype: int64"
      ]
     },
     "execution_count": 28,
     "metadata": {},
     "output_type": "execute_result"
    }
   ],
   "source": [
    "atividades['tipo_atividade'].value_counts().sort_index()"
   ]
  },
  {
   "cell_type": "code",
   "execution_count": 56,
   "metadata": {
    "collapsed": false
   },
   "outputs": [],
   "source": [
    "atividades['data_inicio'] = pd.to_datetime(atividades['data_inicio'])\n",
    "atividades['data_fim'] = pd.to_datetime(atividades['data_fim'])"
   ]
  },
  {
   "cell_type": "code",
   "execution_count": 41,
   "metadata": {
    "collapsed": false
   },
   "outputs": [
    {
     "data": {
      "text/plain": [
       "1      446\n",
       "2      817\n",
       "3     1841\n",
       "4      617\n",
       "5      751\n",
       "6      492\n",
       "7      355\n",
       "8      731\n",
       "9      611\n",
       "10     573\n",
       "11     586\n",
       "12     263\n",
       "Name: data_inicio, dtype: int64"
      ]
     },
     "execution_count": 41,
     "metadata": {},
     "output_type": "execute_result"
    }
   ],
   "source": [
    "atividades['data_inicio'].dt.month.value_counts().sort_index()"
   ]
  },
  {
   "cell_type": "code",
   "execution_count": null,
   "metadata": {
    "collapsed": true
   },
   "outputs": [],
   "source": []
  },
  {
   "cell_type": "code",
   "execution_count": 68,
   "metadata": {
    "collapsed": false
   },
   "outputs": [
    {
     "data": {
      "text/html": [
       "<iframe id=\"igraph\" scrolling=\"no\" style=\"border:none;\" seamless=\"seamless\" src=\"https://plot.ly/~ycaroravel/77.embed\" height=\"525px\" width=\"100%\"></iframe>"
      ],
      "text/plain": [
       "<plotly.tools.PlotlyDisplay object>"
      ]
     },
     "execution_count": 68,
     "metadata": {},
     "output_type": "execute_result"
    }
   ],
   "source": [
    "import plotly.plotly as py\n",
    "import plotly.graph_objs as go\n",
    "\n",
    "x = ['Janeiro', 'Fevereiro', 'Março', 'Abril', 'Maio', 'Junho', 'Julho', 'Agosto', 'Setembro', 'Outubro', 'Novembro', 'Dezembro']\n",
    "\n",
    "trace1 = go.Bar(\n",
    "    name='2014',\n",
    "    x=x,\n",
    "    y=atividades.loc[atividades['ano']=='2014', 'data_inicio'].dt.month.value_counts().sort_index(),\n",
    "    #text=atividades.loc[atividades['ano']=='2014', 'data_inicio'].dt.month.value_counts().sort_index(),\n",
    "    textposition = 'auto',\n",
    "    marker=dict(\n",
    "        color='rgb(158,202,225)',\n",
    "        line=dict(\n",
    "            color='rgb(8,48,107)',\n",
    "            width=1.5),\n",
    "        ),\n",
    "    opacity=0.6\n",
    ")\n",
    "\n",
    "trace2 = go.Bar(\n",
    "    name='2015',\n",
    "    x=x,\n",
    "    y=atividades.loc[atividades['ano']=='2015', 'data_inicio'].dt.month.value_counts().sort_index(),\n",
    "    #text=atividades.loc[atividades['ano']=='2015', 'data_inicio'].dt.month.value_counts().sort_index(),\n",
    "    textposition = 'auto',\n",
    "    marker=dict(\n",
    "        color='rgb(58,202,225)',\n",
    "        line=dict(\n",
    "            color='rgb(8,48,107)',\n",
    "            width=1.5),\n",
    "        ),\n",
    "    opacity=0.6\n",
    ")\n",
    "\n",
    "trace3 = go.Bar(\n",
    "    name='2016',\n",
    "    x=x,\n",
    "    y=atividades.loc[atividades['ano']=='2016', 'data_inicio'].dt.month.value_counts().sort_index(),\n",
    "    #text=atividades.loc[atividades['ano']=='2016', 'data_inicio'].dt.month.value_counts().sort_index(),\n",
    "    textposition = 'auto',\n",
    "    marker=dict(\n",
    "        color='rgb(158,202,225)',\n",
    "        line=dict(\n",
    "            color='rgb(8,48,107)',\n",
    "            width=1.5),\n",
    "        ),\n",
    "    opacity=0.6\n",
    ")\n",
    "\n",
    "trace4 = go.Bar(\n",
    "    name='2017',\n",
    "    x=x,\n",
    "    y=atividades.loc[atividades['ano']=='2017', 'data_inicio'].dt.month.value_counts().sort_index(),\n",
    "    #text=atividades.loc[atividades['ano']=='2017', 'data_inicio'].dt.month.value_counts().sort_index(),\n",
    "    textposition = 'auto',\n",
    "    marker=dict(\n",
    "        color='rgb(58,202,225)',\n",
    "        line=dict(\n",
    "            color='rgb(8,48,107)',\n",
    "            width=1.5),\n",
    "        ),\n",
    "    opacity=0.6\n",
    ")\n",
    "\n",
    "data = [trace1,trace2, trace3, trace4]\n",
    "layout = go.Layout(\n",
    "    title='Atividades de Extensão 2014 - 2017',\n",
    ")\n",
    "\n",
    "fig = go.Figure(data=data, layout=layout)\n",
    "py.iplot(fig, filename='atividades_mes')"
   ]
  },
  {
   "cell_type": "code",
   "execution_count": 59,
   "metadata": {
    "collapsed": false
   },
   "outputs": [
    {
     "data": {
      "text/html": [
       "<iframe id=\"igraph\" scrolling=\"no\" style=\"border:none;\" seamless=\"seamless\" src=\"https://plot.ly/~ycaroravel/71.embed\" height=\"525px\" width=\"100%\"></iframe>"
      ],
      "text/plain": [
       "<plotly.tools.PlotlyDisplay object>"
      ]
     },
     "execution_count": 59,
     "metadata": {},
     "output_type": "execute_result"
    }
   ],
   "source": [
    "import plotly.plotly as py\n",
    "import plotly.graph_objs as go\n",
    "\n",
    "fig = {\n",
    "  \"data\": [\n",
    "    {\n",
    "      \"values\": atividades['tipo_atividade'].value_counts().values,\n",
    "      \"labels\": atividades['tipo_atividade'].value_counts().index,\n",
    "      \"domain\": {\"x\": [0, .48]},\n",
    "      \"name\": \"Tipo\",\n",
    "      \"hoverinfo\":\"label+percent+name\",\n",
    "      \"hole\": .4,\n",
    "      \"type\": \"pie\"\n",
    "    }],\n",
    "  \"layout\": {\n",
    "        \"title\":\"Atividades de Extensão 2014 - 2017\",\n",
    "        \"annotations\": [\n",
    "            {\n",
    "                \"font\": {\n",
    "                    \"size\": 20\n",
    "                },\n",
    "                \"showarrow\": False,\n",
    "                \"text\": \"Atividade\",\n",
    "                \"x\": 0.20,\n",
    "                \"y\": 0.5\n",
    "            }\n",
    "        ],\n",
    "      'showlegend': True\n",
    "    }\n",
    "}\n",
    "py.iplot(fig, filename='atividades_extensao_tipo')"
   ]
  },
  {
   "cell_type": "code",
   "execution_count": 57,
   "metadata": {
    "collapsed": false
   },
   "outputs": [
    {
     "data": {
      "text/html": [
       "<iframe id=\"igraph\" scrolling=\"no\" style=\"border:none;\" seamless=\"seamless\" src=\"https://plot.ly/~ycaroravel/73.embed\" height=\"525px\" width=\"100%\"></iframe>"
      ],
      "text/plain": [
       "<plotly.tools.PlotlyDisplay object>"
      ]
     },
     "execution_count": 57,
     "metadata": {},
     "output_type": "execute_result"
    }
   ],
   "source": [
    "import plotly.plotly as py\n",
    "import plotly.graph_objs as go\n",
    "\n",
    "trace = go.Histogram(\n",
    "    x=(atividades['data_fim'] - atividades['data_inicio']).dt.days,\n",
    "    opacity=0.6\n",
    ")\n",
    "\n",
    "data = [trace]\n",
    "layout = go.Layout(\n",
    "    title='Número de Dias de Execução das Atividades de Extensão 2014 - 2017',\n",
    "    xaxis=dict(\n",
    "        title='Número de Dias'\n",
    "    ),\n",
    "    yaxis=dict(\n",
    "        title='Quantidade de Atividades'\n",
    "    ),\n",
    "    bargap=0.2,\n",
    "    bargroupgap=0.1\n",
    ")\n",
    "\n",
    "fig = go.Figure(data=data, layout=layout)\n",
    "\n",
    "py.iplot(fig, filename='atividades_dias')"
   ]
  },
  {
   "cell_type": "code",
   "execution_count": 67,
   "metadata": {
    "collapsed": false
   },
   "outputs": [
    {
     "data": {
      "text/html": [
       "<iframe id=\"igraph\" scrolling=\"no\" style=\"border:none;\" seamless=\"seamless\" src=\"https://plot.ly/~ycaroravel/75.embed\" height=\"525px\" width=\"100%\"></iframe>"
      ],
      "text/plain": [
       "<plotly.tools.PlotlyDisplay object>"
      ]
     },
     "execution_count": 67,
     "metadata": {},
     "output_type": "execute_result"
    }
   ],
   "source": [
    "import plotly.plotly as py\n",
    "import plotly.graph_objs as go\n",
    "\n",
    "trace = go.Histogram(\n",
    "    x=atividades['publico_interno'],\n",
    "    opacity=0.6,\n",
    "    xbins=dict(\n",
    "        start=0,\n",
    "        end=800,\n",
    "        size=10\n",
    "    ),\n",
    ")\n",
    "\n",
    "data = [trace]\n",
    "layout = go.Layout(\n",
    "    title='Número de Participantes nas Atividades de Extensão 2014 - 2017',\n",
    "    xaxis=dict(\n",
    "        title='Número de Participantes'\n",
    "    ),\n",
    "    yaxis=dict(\n",
    "        title='Quantidade de Atividades'\n",
    "    ),\n",
    "    bargap=0.2,\n",
    "    bargroupgap=0.1\n",
    ")\n",
    "\n",
    "fig = go.Figure(data=data, layout=layout)\n",
    "\n",
    "py.iplot(fig, filename='atividades_publico')"
   ]
  },
  {
   "cell_type": "code",
   "execution_count": null,
   "metadata": {
    "collapsed": true
   },
   "outputs": [],
   "source": []
  }
 ],
 "metadata": {
  "kernelspec": {
   "display_name": "Python 3",
   "language": "python",
   "name": "python3"
  },
  "language_info": {
   "codemirror_mode": {
    "name": "ipython",
    "version": 3
   },
   "file_extension": ".py",
   "mimetype": "text/x-python",
   "name": "python",
   "nbconvert_exporter": "python",
   "pygments_lexer": "ipython3",
   "version": "3.6.0"
  }
 },
 "nbformat": 4,
 "nbformat_minor": 2
}
