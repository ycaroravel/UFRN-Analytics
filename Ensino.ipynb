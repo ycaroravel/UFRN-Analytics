{
 "cells": [
  {
   "cell_type": "markdown",
   "metadata": {},
   "source": [
    "# UFRN Analytics\n",
    "\n",
    "### Análise sobre os dados de Ensino"
   ]
  },
  {
   "cell_type": "markdown",
   "metadata": {
    "collapsed": true
   },
   "source": [
    "- Bancos de relacionados a <b>Ensino</b> no Portal de Dados Abertos da UFRN:\n",
    "\n",
    "\n",
    "[<b>Turmas:</b>](http://dados.ufrn.br/dataset/turmas) Relação de turmas dos cursos de nível médio, técnico, graduação e pós-graduação da UFRN  \n",
    "[<b>Componentes Curriculares:</b>](http://dados.ufrn.br/dataset/componentes-curriculares) Relação de componentes curriculares oferecidos pela UFRN nas modalidades de ensino presencial, à distância e semi-presencial  \n",
    "[<b>Docentes:</b>](http://dados.ufrn.br/dataset/docentes/resource/ff0a457e-76fa-4aca-ad99-48aebd7db070) Docentes da UFRN"
   ]
  },
  {
   "cell_type": "code",
   "execution_count": null,
   "metadata": {
    "collapsed": true
   },
   "outputs": [],
   "source": []
  }
 ],
 "metadata": {
  "kernelspec": {
   "display_name": "Python 3",
   "language": "python",
   "name": "python3"
  },
  "language_info": {
   "codemirror_mode": {
    "name": "ipython",
    "version": 3
   },
   "file_extension": ".py",
   "mimetype": "text/x-python",
   "name": "python",
   "nbconvert_exporter": "python",
   "pygments_lexer": "ipython3",
   "version": "3.6.0"
  }
 },
 "nbformat": 4,
 "nbformat_minor": 2
}
