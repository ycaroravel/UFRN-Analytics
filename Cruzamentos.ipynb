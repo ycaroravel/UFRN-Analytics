{
 "cells": [
  {
   "cell_type": "markdown",
   "metadata": {},
   "source": [
    "# UFRN Analytics\n",
    "\n",
    "### Cruzamentos entre dados de Ensino, Pesquisa e Extensão"
   ]
  },
  {
   "cell_type": "code",
   "execution_count": null,
   "metadata": {
    "collapsed": true
   },
   "outputs": [],
   "source": [
    "import pandas as pd\n",
    "import numpy as np\n",
    "import matplotlib.pyplot as plt\n",
    "%matplotlib inline\n",
    "import plotly.plotly as py\n",
    "from plotly.graph_objs import *"
   ]
  },
  {
   "cell_type": "code",
   "execution_count": null,
   "metadata": {
    "collapsed": false
   },
   "outputs": [],
   "source": [
    "projetos = pd.read_csv('projetos-de-pesquisa.csv',delimiter='\\\";\\\"')\n",
    "\n",
    "def correct (word):\n",
    "    word=str(word)\n",
    "    return word.replace('\\\";',\"\").replace(\"\\\"\",\"\")\n",
    "\n",
    "projetos['area_conhecimento_cnpq'] = projetos['area_conhecimento_cnpq\";'].apply(correct)\n",
    "projetos['codigo_projeto'] = projetos['\"codigo_projeto'].apply(correct)\n",
    "\n",
    "projetos.drop(['\"codigo_projeto', 'area_conhecimento_cnpq\";'], axis=1, inplace=True)\n",
    "\n",
    "projetos = projetos[projetos['ano']=='2016']\n",
    "\n",
    "projetos.head(1)"
   ]
  },
  {
   "cell_type": "code",
   "execution_count": null,
   "metadata": {
    "collapsed": false
   },
   "outputs": [],
   "source": [
    "# import dataset\n",
    "atividades = pd.read_csv('atividades-de-extensao.csv', delimiter = \";\")\n",
    "# drop some unnecessary columns and lines\n",
    "atividades = atividades[atividades['tipo_projeto']=='EXTENSÃO']\n",
    "atividades.drop(['Unnamed: 16', 'Unnamed: 17'], axis=1, inplace=True)\n",
    "# correct this line\n",
    "atividades.loc[atividades['data_fim']=='3016-12-18','data_fim'] = '2016-12-18'\n",
    "atividades.loc[atividades['data_fim']=='2107-12-31','data_fim'] = '2017-12-31'\n",
    "# select 2016\n",
    "atividades = atividades[atividades['ano']=='2016']\n",
    "# show the first line\n",
    "atividades.head(1)"
   ]
  },
  {
   "cell_type": "code",
   "execution_count": null,
   "metadata": {
    "collapsed": false
   },
   "outputs": [],
   "source": [
    "turmas161 = pd.read_csv('turmas20161.csv',delimiter=';')\n",
    "turmas162 = pd.read_csv('turmas20162.csv',delimiter=';')\n",
    "turmas = turmas161.append([turmas162])\n",
    "turmas = turmas[(turmas['nivelensino']=='STRICTO SENSU') | (turmas['nivelensino']=='GRADUAÇÃO')]\n",
    "turmas.head(1)"
   ]
  },
  {
   "cell_type": "code",
   "execution_count": null,
   "metadata": {
    "collapsed": false
   },
   "outputs": [],
   "source": [
    "turmas['nivelensino'].value_counts()"
   ]
  },
  {
   "cell_type": "code",
   "execution_count": null,
   "metadata": {
    "collapsed": false
   },
   "outputs": [],
   "source": [
    "turmas.columns"
   ]
  },
  {
   "cell_type": "code",
   "execution_count": null,
   "metadata": {
    "collapsed": false
   },
   "outputs": [],
   "source": [
    "projetos.columns"
   ]
  },
  {
   "cell_type": "code",
   "execution_count": null,
   "metadata": {
    "collapsed": false
   },
   "outputs": [],
   "source": [
    "atividades.columns"
   ]
  },
  {
   "cell_type": "code",
   "execution_count": null,
   "metadata": {
    "collapsed": false
   },
   "outputs": [],
   "source": [
    "projetos['unidade'].unique()"
   ]
  },
  {
   "cell_type": "code",
   "execution_count": null,
   "metadata": {
    "collapsed": false
   },
   "outputs": [],
   "source": [
    "docentes = pd.read_csv('docentes.csv', delimiter = \";\")\n",
    "docentes[docentes['lotacao']=='MUSEU CÂMARA CASCUDO']\n"
   ]
  },
  {
   "cell_type": "code",
   "execution_count": null,
   "metadata": {
    "collapsed": false
   },
   "outputs": [],
   "source": [
    "docentes['vinculo'].value_counts()"
   ]
  },
  {
   "cell_type": "code",
   "execution_count": null,
   "metadata": {
    "collapsed": false
   },
   "outputs": [],
   "source": [
    "servidores = pd.read_csv('servidores.csv', delimiter = \";\")\n",
    "servidores.cargo.value_counts()"
   ]
  },
  {
   "cell_type": "code",
   "execution_count": null,
   "metadata": {
    "collapsed": false
   },
   "outputs": [],
   "source": [
    "docentes.nome.isin(servidores[((servidores.cargo=='PROFESSOR DO MAGISTERIO SUPERIOR')| ((servidores.cargo=='PROFESSOR DE ENSINO BASICO TECNICO E TECNOLOGICO'))) & (servidores.situacao_servidor=='Ativo Permanente')].nome)"
   ]
  },
  {
   "cell_type": "code",
   "execution_count": null,
   "metadata": {
    "collapsed": false
   },
   "outputs": [],
   "source": [
    "servidores[(servidores.cargo=='PROFESSOR DE ENSINO BASICO TECNICO E TECNOLOGICO') & (servidores.situacao_servidor=='Ativo Permanente')]['unidade'].count()"
   ]
  },
  {
   "cell_type": "code",
   "execution_count": null,
   "metadata": {
    "collapsed": false
   },
   "outputs": [],
   "source": [
    "docentes.nome"
   ]
  },
  {
   "cell_type": "code",
   "execution_count": null,
   "metadata": {
    "collapsed": false
   },
   "outputs": [],
   "source": [
    "docentes[docentes.nome=='RUTILENE SANTOS DE SOUSA']"
   ]
  },
  {
   "cell_type": "code",
   "execution_count": null,
   "metadata": {
    "collapsed": false
   },
   "outputs": [],
   "source": [
    "servidores[servidores.nome=='RUTILENE SANTOS DE SOUSA']"
   ]
  },
  {
   "cell_type": "code",
   "execution_count": null,
   "metadata": {
    "collapsed": false
   },
   "outputs": [],
   "source": [
    "servidores[servidores.nome=='MARIA NUBIA PESSOA']"
   ]
  },
  {
   "cell_type": "code",
   "execution_count": null,
   "metadata": {
    "collapsed": false
   },
   "outputs": [],
   "source": [
    "servidores[servidores.cargo=='PROFESSOR DE ENSINO BASICO DE EX-TERRITORIO']"
   ]
  },
  {
   "cell_type": "code",
   "execution_count": null,
   "metadata": {
    "collapsed": false
   },
   "outputs": [],
   "source": [
    "servidores[(servidores.cargo=='PROFESSOR DE ENSINO BASICO TECNICO E TECNOLOGICO')]"
   ]
  },
  {
   "cell_type": "code",
   "execution_count": null,
   "metadata": {
    "collapsed": false
   },
   "outputs": [],
   "source": [
    "print(servidores[((servidores.cargo=='PROFESSOR DO MAGISTERIO SUPERIOR')| ((servidores.cargo=='PROFESSOR DE ENSINO BASICO TECNICO E TECNOLOGICO'))) & (servidores.situacao_servidor=='Ativo Permanente')].unidade.value_counts())"
   ]
  },
  {
   "cell_type": "code",
   "execution_count": null,
   "metadata": {
    "collapsed": false
   },
   "outputs": [],
   "source": [
    "departamentos = pd.read_csv('departamentos.csv', delimiter = \";\")\n",
    "docentes.unidade.isin(departamentos.departamento)"
   ]
  },
  {
   "cell_type": "code",
   "execution_count": null,
   "metadata": {
    "collapsed": false
   },
   "outputs": [],
   "source": [
    "docentes.categoria.unique()"
   ]
  },
  {
   "cell_type": "code",
   "execution_count": null,
   "metadata": {
    "collapsed": false
   },
   "outputs": [],
   "source": [
    "docentes[(~(docentes.lotacao.isin(departamentos.departamento))) & (docentes.lotacao!='NÚCLEO DE EDUCAÇÃO DA INFÂNCIA')]"
   ]
  },
  {
   "cell_type": "code",
   "execution_count": null,
   "metadata": {
    "collapsed": false
   },
   "outputs": [],
   "source": [
    "funcoes = pd.read_csv('funcoes-gratificadas.csv', delimiter = \";\")\n",
    "funcoes['inicio'] = pd.to_datetime(funcoes['inicio'])\n",
    "funcoes.sort_values('inicio', ascending=False)\n",
    "funcoes = funcoes.groupby('nome', as_index=False).first()"
   ]
  },
  {
   "cell_type": "code",
   "execution_count": null,
   "metadata": {
    "collapsed": false
   },
   "outputs": [],
   "source": [
    "funcoes.tail(50)"
   ]
  },
  {
   "cell_type": "code",
   "execution_count": null,
   "metadata": {
    "collapsed": false
   },
   "outputs": [],
   "source": [
    "docentes.sort_values('nome', inplace=True)\n",
    "corrigir_lotacao.sort_values('nome', inplace=True)\n",
    "docentes.loc[docentes['nome'].isin(corrigir_lotacao['nome']), 'lotacao'] = corrigir_lotacao['lotacao_correta']"
   ]
  },
  {
   "cell_type": "code",
   "execution_count": null,
   "metadata": {
    "collapsed": false
   },
   "outputs": [],
   "source": [
    "docentes[(~(docentes.lotacao.isin(departamentos.departamento)))]"
   ]
  },
  {
   "cell_type": "code",
   "execution_count": null,
   "metadata": {
    "collapsed": false
   },
   "outputs": [],
   "source": [
    "docentes = pd.read_csv('docentes.csv', delimiter = \";\")\n",
    "lot_erros = pd.read_csv('corrigir_lotacao.csv', delimiter = \";\")\n",
    "\n",
    "def corrigir_lotacao(row):\n",
    "    if(str(row['nome']) in lot_erros['nome'].tolist()):\n",
    "        row['lotacao'] = lot_erros.loc[lot_erros['nome']==row['nome'], 'lotacao_correta'].values[0]\n",
    "    return row\n",
    "    \n",
    "docentes = docentes.apply(corrigir_lotacao, axis=1)"
   ]
  },
  {
   "cell_type": "code",
   "execution_count": null,
   "metadata": {
    "collapsed": false
   },
   "outputs": [],
   "source": [
    "docentes"
   ]
  },
  {
   "cell_type": "code",
   "execution_count": null,
   "metadata": {
    "collapsed": false
   },
   "outputs": [],
   "source": [
    "'ADRIANA MARCELLE DE ANDRADE FREITAS' in corrigir_lotacao['nome'].tolist()"
   ]
  },
  {
   "cell_type": "code",
   "execution_count": null,
   "metadata": {
    "collapsed": false
   },
   "outputs": [],
   "source": [
    "docentes['nome'] in (corrigir_lotacao['nome'].tolist())"
   ]
  },
  {
   "cell_type": "code",
   "execution_count": null,
   "metadata": {
    "collapsed": false
   },
   "outputs": [],
   "source": [
    "docentes['lotacao'].value_counts()"
   ]
  },
  {
   "cell_type": "code",
   "execution_count": null,
   "metadata": {
    "collapsed": false
   },
   "outputs": [],
   "source": [
    "projetos.columns"
   ]
  },
  {
   "cell_type": "code",
   "execution_count": null,
   "metadata": {
    "collapsed": false
   },
   "outputs": [],
   "source": [
    "projetos[~projetos.coordenador.isin(servidores.nome)]"
   ]
  },
  {
   "cell_type": "code",
   "execution_count": null,
   "metadata": {
    "collapsed": false
   },
   "outputs": [],
   "source": [
    "atividades[~atividades.coordenador.isin(servidores.nome)]"
   ]
  },
  {
   "cell_type": "code",
   "execution_count": null,
   "metadata": {
    "collapsed": false
   },
   "outputs": [],
   "source": [
    "docentes[docentes.lotacao=='DEPARTAMENTO DE ARTES']"
   ]
  },
  {
   "cell_type": "code",
   "execution_count": null,
   "metadata": {
    "collapsed": false
   },
   "outputs": [],
   "source": [
    "servidores[servidores.nome==(('andreia da silva quintanilha sousa').upper())]"
   ]
  },
  {
   "cell_type": "code",
   "execution_count": null,
   "metadata": {
    "collapsed": false
   },
   "outputs": [],
   "source": [
    "('andreia da silva quintanilha sousa').upper()"
   ]
  },
  {
   "cell_type": "code",
   "execution_count": null,
   "metadata": {
    "collapsed": false
   },
   "outputs": [],
   "source": [
    "turmas.head()"
   ]
  },
  {
   "cell_type": "code",
   "execution_count": null,
   "metadata": {
    "collapsed": false
   },
   "outputs": [],
   "source": [
    "%%html\n",
    "<style>\n",
    "div.input {\n",
    "    display:none;\n",
    "}\n",
    "</style>\n",
    "\n",
    "print('This Cell)"
   ]
  },
  {
   "cell_type": "code",
   "execution_count": null,
   "metadata": {
    "collapsed": true
   },
   "outputs": [],
   "source": []
  }
 ],
 "metadata": {
  "kernelspec": {
   "display_name": "Python 3",
   "language": "python",
   "name": "python3"
  },
  "language_info": {
   "codemirror_mode": {
    "name": "ipython",
    "version": 3
   },
   "file_extension": ".py",
   "mimetype": "text/x-python",
   "name": "python",
   "nbconvert_exporter": "python",
   "pygments_lexer": "ipython3",
   "version": "3.6.0"
  }
 },
 "nbformat": 4,
 "nbformat_minor": 2
}
