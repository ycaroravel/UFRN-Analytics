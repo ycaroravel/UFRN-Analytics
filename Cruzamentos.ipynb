{
 "cells": [
  {
   "cell_type": "markdown",
   "metadata": {},
   "source": [
    "# UFRN Analytics\n",
    "\n",
    "### Cruzamentos entre dados de Ensino, Pesquisa e Extensão"
   ]
  },
  {
   "cell_type": "code",
   "execution_count": 2,
   "metadata": {
    "collapsed": true
   },
   "outputs": [],
   "source": [
    "import pandas as pd\n",
    "import numpy as np\n",
    "import matplotlib.pyplot as plt\n",
    "%matplotlib inline\n",
    "import plotly.plotly as py\n",
    "from plotly.graph_objs import *"
   ]
  },
  {
   "cell_type": "code",
   "execution_count": 4,
   "metadata": {
    "collapsed": false
   },
   "outputs": [
    {
     "name": "stderr",
     "output_type": "stream",
     "text": [
      "/home/ycaro/anaconda3/lib/python3.6/site-packages/ipykernel/__main__.py:1: ParserWarning:\n",
      "\n",
      "Falling back to the 'python' engine because the 'c' engine does not support regex separators (separators > 1 char and different from '\\s+' are interpreted as regex); you can avoid this warning by specifying engine='python'.\n",
      "\n"
     ]
    },
    {
     "data": {
      "text/html": [
       "<div>\n",
       "<table border=\"1\" class=\"dataframe\">\n",
       "  <thead>\n",
       "    <tr style=\"text-align: right;\">\n",
       "      <th></th>\n",
       "      <th>titulo</th>\n",
       "      <th>palavras_chave</th>\n",
       "      <th>situacao</th>\n",
       "      <th>ano</th>\n",
       "      <th>data_inicio</th>\n",
       "      <th>data_fim</th>\n",
       "      <th>tipo_projeto</th>\n",
       "      <th>unidade</th>\n",
       "      <th>coordenador</th>\n",
       "      <th>edital</th>\n",
       "      <th>grupo_pesquisa</th>\n",
       "      <th>linha_pesquisa</th>\n",
       "      <th>area_conhecimento_cnpq</th>\n",
       "      <th>codigo_projeto</th>\n",
       "    </tr>\n",
       "  </thead>\n",
       "  <tbody>\n",
       "    <tr>\n",
       "      <th>737</th>\n",
       "      <td>Prevalência de parasitoses intestinais em esco...</td>\n",
       "      <td>parasitos gastrintestinais, diagnóstico, anemi...</td>\n",
       "      <td>EM EXECUÇÃO</td>\n",
       "      <td>2016</td>\n",
       "      <td>2016-08-01</td>\n",
       "      <td>2017-07-31</td>\n",
       "      <td>INTERNO</td>\n",
       "      <td>DEPARTAMENTO DE MICROBIOLOGIA E PARASITOLOGIA</td>\n",
       "      <td>LILIAN GIOTTO ZAROS DE MEDEIROS</td>\n",
       "      <td>(2016) Edital N° 01/2016 - Edital de Bolsas de...</td>\n",
       "      <td>////</td>\n",
       "      <td>Parasitologia e Produção Animal</td>\n",
       "      <td>Helmintologia de Parasitos</td>\n",
       "      <td>PIA12930-2016</td>\n",
       "    </tr>\n",
       "  </tbody>\n",
       "</table>\n",
       "</div>"
      ],
      "text/plain": [
       "                                                titulo  \\\n",
       "737  Prevalência de parasitoses intestinais em esco...   \n",
       "\n",
       "                                        palavras_chave     situacao   ano  \\\n",
       "737  parasitos gastrintestinais, diagnóstico, anemi...  EM EXECUÇÃO  2016   \n",
       "\n",
       "    data_inicio    data_fim tipo_projeto  \\\n",
       "737  2016-08-01  2017-07-31      INTERNO   \n",
       "\n",
       "                                           unidade  \\\n",
       "737  DEPARTAMENTO DE MICROBIOLOGIA E PARASITOLOGIA   \n",
       "\n",
       "                         coordenador  \\\n",
       "737  LILIAN GIOTTO ZAROS DE MEDEIROS   \n",
       "\n",
       "                                                edital grupo_pesquisa  \\\n",
       "737  (2016) Edital N° 01/2016 - Edital de Bolsas de...           ////   \n",
       "\n",
       "                      linha_pesquisa      area_conhecimento_cnpq  \\\n",
       "737  Parasitologia e Produção Animal  Helmintologia de Parasitos   \n",
       "\n",
       "    codigo_projeto  \n",
       "737  PIA12930-2016  "
      ]
     },
     "execution_count": 4,
     "metadata": {},
     "output_type": "execute_result"
    }
   ],
   "source": [
    "projetos = pd.read_csv('projetos-de-pesquisa.csv',delimiter='\\\";\\\"')\n",
    "\n",
    "def correct (word):\n",
    "    word=str(word)\n",
    "    return word.replace('\\\";',\"\").replace(\"\\\"\",\"\")\n",
    "\n",
    "projetos['area_conhecimento_cnpq'] = projetos['area_conhecimento_cnpq\";'].apply(correct)\n",
    "projetos['codigo_projeto'] = projetos['\"codigo_projeto'].apply(correct)\n",
    "\n",
    "projetos.drop(['\"codigo_projeto', 'area_conhecimento_cnpq\";'], axis=1, inplace=True)\n",
    "\n",
    "projetos = projetos[projetos['ano']=='2016']\n",
    "\n",
    "projetos.head(1)"
   ]
  },
  {
   "cell_type": "code",
   "execution_count": 12,
   "metadata": {
    "collapsed": false
   },
   "outputs": [
    {
     "data": {
      "text/html": [
       "<div>\n",
       "<table border=\"1\" class=\"dataframe\">\n",
       "  <thead>\n",
       "    <tr style=\"text-align: right;\">\n",
       "      <th></th>\n",
       "      <th>ano</th>\n",
       "      <th>tipo_atividade</th>\n",
       "      <th>titulo</th>\n",
       "      <th>data_inicio</th>\n",
       "      <th>data_fim</th>\n",
       "      <th>coordenador</th>\n",
       "      <th>area_tematica</th>\n",
       "      <th>situacao</th>\n",
       "      <th>tipo_projeto</th>\n",
       "      <th>bolsas_solicitadas</th>\n",
       "      <th>bolsas_concedidas</th>\n",
       "      <th>publico_interno</th>\n",
       "      <th>bolsas_edital</th>\n",
       "      <th>numero_edital</th>\n",
       "      <th>edital</th>\n",
       "      <th>municipio</th>\n",
       "    </tr>\n",
       "  </thead>\n",
       "  <tbody>\n",
       "    <tr>\n",
       "      <th>1716</th>\n",
       "      <td>2016</td>\n",
       "      <td>CURSO</td>\n",
       "      <td>III Fórum de Bioética de Natal</td>\n",
       "      <td>2016-11-04</td>\n",
       "      <td>2016-11-05</td>\n",
       "      <td>ALESSANDRA KARLA FONSECA ELIAS COUTINHO RODRIGUES</td>\n",
       "      <td>DIREITOS HUMANOS E JUSTIÇA</td>\n",
       "      <td>AGUARDANDO APROVAÇÃO DOS DEPARTAMENTOS</td>\n",
       "      <td>EXTENSÃO</td>\n",
       "      <td>0</td>\n",
       "      <td>0</td>\n",
       "      <td>20</td>\n",
       "      <td>NaN</td>\n",
       "      <td>NaN</td>\n",
       "      <td>NaN</td>\n",
       "      <td>NaN</td>\n",
       "    </tr>\n",
       "  </tbody>\n",
       "</table>\n",
       "</div>"
      ],
      "text/plain": [
       "       ano tipo_atividade                          titulo data_inicio  \\\n",
       "1716  2016          CURSO  III Fórum de Bioética de Natal  2016-11-04   \n",
       "\n",
       "        data_fim                                        coordenador  \\\n",
       "1716  2016-11-05  ALESSANDRA KARLA FONSECA ELIAS COUTINHO RODRIGUES   \n",
       "\n",
       "                   area_tematica                                situacao  \\\n",
       "1716  DIREITOS HUMANOS E JUSTIÇA  AGUARDANDO APROVAÇÃO DOS DEPARTAMENTOS   \n",
       "\n",
       "     tipo_projeto bolsas_solicitadas bolsas_concedidas publico_interno  \\\n",
       "1716     EXTENSÃO                  0                 0              20   \n",
       "\n",
       "      bolsas_edital numero_edital edital  municipio  \n",
       "1716            NaN           NaN    NaN        NaN  "
      ]
     },
     "execution_count": 12,
     "metadata": {},
     "output_type": "execute_result"
    }
   ],
   "source": [
    "# import dataset\n",
    "atividades = pd.read_csv('atividades-de-extensao.csv', delimiter = \";\")\n",
    "# drop some unnecessary columns and lines\n",
    "atividades = atividades[atividades['tipo_projeto']=='EXTENSÃO']\n",
    "atividades.drop(['Unnamed: 16', 'Unnamed: 17'], axis=1, inplace=True)\n",
    "# correct this line\n",
    "atividades.loc[atividades['data_fim']=='3016-12-18','data_fim'] = '2016-12-18'\n",
    "atividades.loc[atividades['data_fim']=='2107-12-31','data_fim'] = '2017-12-31'\n",
    "# select 2016\n",
    "atividades = atividades[atividades['ano']=='2016']\n",
    "# show the first line\n",
    "atividades.head(1)"
   ]
  },
  {
   "cell_type": "code",
   "execution_count": 18,
   "metadata": {
    "collapsed": false
   },
   "outputs": [
    {
     "data": {
      "text/html": [
       "<div>\n",
       "<table border=\"1\" class=\"dataframe\">\n",
       "  <thead>\n",
       "    <tr style=\"text-align: right;\">\n",
       "      <th></th>\n",
       "      <th>codigo</th>\n",
       "      <th>nome_ascii</th>\n",
       "      <th>nivelensino</th>\n",
       "      <th>ano</th>\n",
       "      <th>periodo</th>\n",
       "      <th>capacidade_aluno</th>\n",
       "      <th>local</th>\n",
       "      <th>data_inicio</th>\n",
       "      <th>data_fim</th>\n",
       "      <th>codigo_turma</th>\n",
       "      <th>...</th>\n",
       "      <th>observacao</th>\n",
       "      <th>distancia</th>\n",
       "      <th>tipo</th>\n",
       "      <th>data_consolidacao</th>\n",
       "      <th>agrupadora</th>\n",
       "      <th>qtd_aulas_lancadas</th>\n",
       "      <th>situacaoturma</th>\n",
       "      <th>convenio</th>\n",
       "      <th>modalidadeparticipantes</th>\n",
       "      <th>campusturma</th>\n",
       "    </tr>\n",
       "  </thead>\n",
       "  <tbody>\n",
       "    <tr>\n",
       "      <th>1</th>\n",
       "      <td>DPU0212</td>\n",
       "      <td>DIREITO PROCESSUAL CIVIL III</td>\n",
       "      <td>GRADUAÇÃO</td>\n",
       "      <td>2016</td>\n",
       "      <td>1</td>\n",
       "      <td>55.0</td>\n",
       "      <td>Sala 1G4</td>\n",
       "      <td>2016-02-01</td>\n",
       "      <td>2016-06-18</td>\n",
       "      <td>01</td>\n",
       "      <td>...</td>\n",
       "      <td>NaN</td>\n",
       "      <td>f</td>\n",
       "      <td>1</td>\n",
       "      <td>2016-06-18 16:29:18.279</td>\n",
       "      <td>f</td>\n",
       "      <td>74.0</td>\n",
       "      <td>CONSOLIDADA</td>\n",
       "      <td>NaN</td>\n",
       "      <td>Presencial</td>\n",
       "      <td>Campus Central</td>\n",
       "    </tr>\n",
       "  </tbody>\n",
       "</table>\n",
       "<p>1 rows × 21 columns</p>\n",
       "</div>"
      ],
      "text/plain": [
       "    codigo                    nome_ascii nivelensino   ano  periodo  \\\n",
       "1  DPU0212  DIREITO PROCESSUAL CIVIL III   GRADUAÇÃO  2016        1   \n",
       "\n",
       "   capacidade_aluno     local data_inicio    data_fim codigo_turma  \\\n",
       "1              55.0  Sala 1G4  2016-02-01  2016-06-18           01   \n",
       "\n",
       "        ...       observacao distancia tipo        data_consolidacao  \\\n",
       "1       ...              NaN         f    1  2016-06-18 16:29:18.279   \n",
       "\n",
       "  agrupadora qtd_aulas_lancadas  situacaoturma convenio  \\\n",
       "1          f               74.0    CONSOLIDADA      NaN   \n",
       "\n",
       "   modalidadeparticipantes     campusturma  \n",
       "1               Presencial  Campus Central  \n",
       "\n",
       "[1 rows x 21 columns]"
      ]
     },
     "execution_count": 18,
     "metadata": {},
     "output_type": "execute_result"
    }
   ],
   "source": [
    "turmas161 = pd.read_csv('turmas20161.csv',delimiter=';')\n",
    "turmas162 = pd.read_csv('turmas20162.csv',delimiter=';')\n",
    "turmas = turmas161.append([turmas162])\n",
    "turmas = turmas[(turmas['nivelensino']=='STRICTO SENSU') | (turmas['nivelensino']=='GRADUAÇÃO')]\n",
    "turmas.head(1)"
   ]
  },
  {
   "cell_type": "code",
   "execution_count": 19,
   "metadata": {
    "collapsed": false
   },
   "outputs": [
    {
     "data": {
      "text/plain": [
       "GRADUAÇÃO        13272\n",
       "STRICTO SENSU     3206\n",
       "Name: nivelensino, dtype: int64"
      ]
     },
     "execution_count": 19,
     "metadata": {},
     "output_type": "execute_result"
    }
   ],
   "source": [
    "turmas['nivelensino'].value_counts()"
   ]
  },
  {
   "cell_type": "code",
   "execution_count": 20,
   "metadata": {
    "collapsed": false
   },
   "outputs": [
    {
     "data": {
      "text/plain": [
       "Index(['codigo', 'nome_ascii', 'nivelensino', 'ano', 'periodo',\n",
       "       'capacidade_aluno', 'local', 'data_inicio', 'data_fim', 'codigo_turma',\n",
       "       'descricao_horario', 'observacao', 'distancia', 'tipo',\n",
       "       'data_consolidacao', 'agrupadora', 'qtd_aulas_lancadas',\n",
       "       'situacaoturma', 'convenio', 'modalidadeparticipantes', 'campusturma'],\n",
       "      dtype='object')"
      ]
     },
     "execution_count": 20,
     "metadata": {},
     "output_type": "execute_result"
    }
   ],
   "source": [
    "turmas.columns"
   ]
  },
  {
   "cell_type": "code",
   "execution_count": null,
   "metadata": {
    "collapsed": true
   },
   "outputs": [],
   "source": []
  }
 ],
 "metadata": {
  "kernelspec": {
   "display_name": "Python 3",
   "language": "python",
   "name": "python3"
  },
  "language_info": {
   "codemirror_mode": {
    "name": "ipython",
    "version": 3
   },
   "file_extension": ".py",
   "mimetype": "text/x-python",
   "name": "python",
   "nbconvert_exporter": "python",
   "pygments_lexer": "ipython3",
   "version": "3.6.0"
  }
 },
 "nbformat": 4,
 "nbformat_minor": 2
}
